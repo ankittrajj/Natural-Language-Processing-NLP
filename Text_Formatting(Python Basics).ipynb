{
 "cells": [
  {
   "cell_type": "markdown",
   "metadata": {},
   "source": [
    "# f-string"
   ]
  },
  {
   "cell_type": "code",
   "execution_count": 1,
   "metadata": {},
   "outputs": [
    {
     "name": "stdout",
     "output_type": "stream",
     "text": [
      "Welcome to NLP\n"
     ]
    }
   ],
   "source": [
    "print('Welcome to NLP')"
   ]
  },
  {
   "cell_type": "code",
   "execution_count": 2,
   "metadata": {},
   "outputs": [],
   "source": [
    "greet = '\"Hello to NLP world\"'"
   ]
  },
  {
   "cell_type": "code",
   "execution_count": 3,
   "metadata": {},
   "outputs": [
    {
     "name": "stdout",
     "output_type": "stream",
     "text": [
      "You'r greeting is as -->\n",
      "\t \"Hello to NLP world\" \n"
     ]
    }
   ],
   "source": [
    "print(\"You'r greeting is as -->\\n\\t {} \".format(greet))\n",
    "\n",
    "# this is the old format used in Python2.x"
   ]
  },
  {
   "cell_type": "code",
   "execution_count": 4,
   "metadata": {},
   "outputs": [
    {
     "name": "stdout",
     "output_type": "stream",
     "text": [
      "You greet is --> \n",
      "\t\"Hello to NLP world\"\n"
     ]
    }
   ],
   "source": [
    "# new format\n",
    "print(f'You greet is --> \\n\\t{greet}')"
   ]
  },
  {
   "cell_type": "code",
   "execution_count": 5,
   "metadata": {},
   "outputs": [],
   "source": [
    "# make a list for the above method\n",
    "list = ['a','b','c','d']"
   ]
  },
  {
   "cell_type": "code",
   "execution_count": 6,
   "metadata": {},
   "outputs": [
    {
     "name": "stdout",
     "output_type": "stream",
     "text": [
      "Your spam msg is only \n",
      "\t --> b\n"
     ]
    }
   ],
   "source": [
    "print(f'Your spam msg is only \\n\\t --> {list[1]}')"
   ]
  },
  {
   "cell_type": "code",
   "execution_count": 7,
   "metadata": {},
   "outputs": [],
   "source": [
    "# dict\n",
    "dict = {'z':1,'y':2,'x':3}"
   ]
  },
  {
   "cell_type": "code",
   "execution_count": 8,
   "metadata": {},
   "outputs": [
    {
     "name": "stdout",
     "output_type": "stream",
     "text": [
      "your dictonary is -->\n",
      " 1\n"
     ]
    }
   ],
   "source": [
    "print(f\"your dictonary is -->\\n {dict['z']}\")"
   ]
  },
  {
   "cell_type": "code",
   "execution_count": 9,
   "metadata": {},
   "outputs": [],
   "source": [
    "students = [('Name','Branch','Year'),\n",
    "             ('Ankit','ECE','PassOut'),\n",
    "            ('Akshay','Mech','3rd year')]"
   ]
  },
  {
   "cell_type": "code",
   "execution_count": 10,
   "metadata": {},
   "outputs": [
    {
     "name": "stdout",
     "output_type": "stream",
     "text": [
      "('Name', 'Branch', 'Year')\n",
      "('Ankit', 'ECE', 'PassOut')\n",
      "('Akshay', 'Mech', '3rd year')\n"
     ]
    }
   ],
   "source": [
    "for i in students:\n",
    "    print(i)"
   ]
  },
  {
   "cell_type": "code",
   "execution_count": 11,
   "metadata": {},
   "outputs": [
    {
     "name": "stdout",
     "output_type": "stream",
     "text": [
      "Name\n",
      "Ankit\n",
      "Akshay\n"
     ]
    }
   ],
   "source": [
    "for i in students:\n",
    "    print(f'{i[0]}')"
   ]
  },
  {
   "cell_type": "code",
   "execution_count": 12,
   "metadata": {},
   "outputs": [
    {
     "name": "stdout",
     "output_type": "stream",
     "text": [
      "Name                Branch              Year\n",
      "Ankit               ECE                 PassOut\n",
      "Akshay              Mech                3rd year\n"
     ]
    }
   ],
   "source": [
    "for name,branch,year in students:\n",
    "    print(f'{name:20}{branch:20}{year}')"
   ]
  },
  {
   "cell_type": "markdown",
   "metadata": {},
   "source": [
    "# Date Time Formating"
   ]
  },
  {
   "cell_type": "code",
   "execution_count": 13,
   "metadata": {},
   "outputs": [],
   "source": [
    "from datetime import datetime"
   ]
  },
  {
   "cell_type": "code",
   "execution_count": 14,
   "metadata": {},
   "outputs": [],
   "source": [
    "present = datetime(year = 2020,month = 6,day = 14)"
   ]
  },
  {
   "cell_type": "code",
   "execution_count": 15,
   "metadata": {},
   "outputs": [
    {
     "name": "stdout",
     "output_type": "stream",
     "text": [
      "2020-06-14 00:00:00\n"
     ]
    }
   ],
   "source": [
    "print(f'{present}')"
   ]
  },
  {
   "cell_type": "code",
   "execution_count": 16,
   "metadata": {},
   "outputs": [
    {
     "data": {
      "text/plain": [
       "datetime.datetime(2020, 6, 14, 0, 0)"
      ]
     },
     "execution_count": 16,
     "metadata": {},
     "output_type": "execute_result"
    }
   ],
   "source": [
    "present\n",
    "# not appropriate"
   ]
  },
  {
   "cell_type": "code",
   "execution_count": 17,
   "metadata": {},
   "outputs": [
    {
     "name": "stdout",
     "output_type": "stream",
     "text": [
      "14 June 2020\n"
     ]
    }
   ],
   "source": [
    "# %B - month\n",
    "# %d - date\n",
    "# %Y - year(change the month,date,day in any order)\n",
    "\n",
    "print(f'{present:%d %B %Y}')"
   ]
  },
  {
   "cell_type": "code",
   "execution_count": 18,
   "metadata": {},
   "outputs": [
    {
     "name": "stdout",
     "output_type": "stream",
     "text": [
      "06/14/20\n"
     ]
    }
   ],
   "source": [
    "# %x - also give time\n",
    "print(f'{present:%x}')"
   ]
  },
  {
   "cell_type": "code",
   "execution_count": 19,
   "metadata": {},
   "outputs": [
    {
     "name": "stdout",
     "output_type": "stream",
     "text": [
      "00:00:00\n"
     ]
    }
   ],
   "source": [
    "# %X - give the time\n",
    "print(f'{present:%X}')"
   ]
  },
  {
   "cell_type": "code",
   "execution_count": 20,
   "metadata": {},
   "outputs": [
    {
     "name": "stdout",
     "output_type": "stream",
     "text": [
      "Sun Jun 14 00:00:00 2020\n"
     ]
    }
   ],
   "source": [
    "# %c - give you all time + date format\n",
    "print(f'{present:%c}')"
   ]
  },
  {
   "cell_type": "code",
   "execution_count": null,
   "metadata": {},
   "outputs": [],
   "source": []
  }
 ],
 "metadata": {
  "kernelspec": {
   "display_name": "Python 3",
   "language": "python",
   "name": "python3"
  },
  "language_info": {
   "codemirror_mode": {
    "name": "ipython",
    "version": 3
   },
   "file_extension": ".py",
   "mimetype": "text/x-python",
   "name": "python",
   "nbconvert_exporter": "python",
   "pygments_lexer": "ipython3",
   "version": "3.7.4"
  }
 },
 "nbformat": 4,
 "nbformat_minor": 2
}
